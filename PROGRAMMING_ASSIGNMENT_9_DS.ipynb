{
  "nbformat": 4,
  "nbformat_minor": 0,
  "metadata": {
    "colab": {
      "provenance": []
    },
    "kernelspec": {
      "name": "python3",
      "display_name": "Python 3"
    },
    "language_info": {
      "name": "python"
    }
  },
  "cells": [
    {
      "cell_type": "markdown",
      "source": [
        "1. **Write a Python program to check if the given number is a Disarium Number?**"
      ],
      "metadata": {
        "id": "GlgxklCPI2jd"
      }
    },
    {
      "cell_type": "code",
      "source": [],
      "metadata": {
        "id": "6pqq8yLFI9gt"
      },
      "execution_count": null,
      "outputs": []
    },
    {
      "cell_type": "code",
      "source": [
        "def is_disarium(num):\n",
        "  \"\"\"Checks if a number is a Disarium number.\"\"\"\n",
        "  num_str = str(num)\n",
        "  sum_of_powers = 0\n",
        "  for i, digit in enumerate(num_str):\n",
        "    sum_of_powers += int(digit) ** (i + 1)\n",
        "  return sum_of_powers == num\n",
        "\n",
        "# Example usage:\n",
        "number = 175\n",
        "if is_disarium(number):\n",
        "  print(f\"{number} is a Disarium number.\")\n",
        "else:\n",
        "  print(f\"{number} is not a Disarium number.\")\n",
        "\n",
        "number = 89\n",
        "if is_disarium(number):\n",
        "  print(f\"{number} is a Disarium number.\")\n",
        "else:\n",
        "  print(f\"{number} is not a Disarium number.\")"
      ],
      "metadata": {
        "colab": {
          "base_uri": "https://localhost:8080/"
        },
        "id": "NG_TAcQ9JCLF",
        "outputId": "92016459-eb4c-4182-dbe8-43bcf509e50b"
      },
      "execution_count": 1,
      "outputs": [
        {
          "output_type": "stream",
          "name": "stdout",
          "text": [
            "175 is a Disarium number.\n",
            "89 is a Disarium number.\n"
          ]
        }
      ]
    },
    {
      "cell_type": "markdown",
      "source": [
        "2. **Write a Python program to print all disarium numbers between 1 to 100?**"
      ],
      "metadata": {
        "id": "r-HRKBgcJEqv"
      }
    },
    {
      "cell_type": "code",
      "source": [
        "def is_disarium(num):\n",
        "  \"\"\"Checks if a number is a Disarium number.\"\"\"\n",
        "  num_str = str(num)\n",
        "  sum_of_powers = 0\n",
        "  for i, digit in enumerate(num_str):\n",
        "    sum_of_powers += int(digit) ** (i + 1)\n",
        "  return sum_of_powers == num\n",
        "\n",
        "print(\"Disarium numbers between 1 and 100 are:\")\n",
        "for i in range(1, 101):\n",
        "  if is_disarium(i):\n",
        "    print(i)"
      ],
      "metadata": {
        "colab": {
          "base_uri": "https://localhost:8080/"
        },
        "id": "ODQ7p1jYJViU",
        "outputId": "3e46b3b2-50f5-4aa2-fc2f-866dc0cbea78"
      },
      "execution_count": 2,
      "outputs": [
        {
          "output_type": "stream",
          "name": "stdout",
          "text": [
            "Disarium numbers between 1 and 100 are:\n",
            "1\n",
            "2\n",
            "3\n",
            "4\n",
            "5\n",
            "6\n",
            "7\n",
            "8\n",
            "9\n",
            "89\n"
          ]
        }
      ]
    },
    {
      "cell_type": "markdown",
      "source": [
        "3. **Write a Python program to check if the given number is Happy Number?**"
      ],
      "metadata": {
        "id": "8ZGUHw8zJZl4"
      }
    },
    {
      "cell_type": "code",
      "source": [
        "def is_happy(n):\n",
        "  \"\"\"Checks if a number is a Happy Number.\"\"\"\n",
        "  seen = set()\n",
        "  while n != 1 and n not in seen:\n",
        "    seen.add(n)\n",
        "    sum_of_squares = 0\n",
        "    for digit in str(n):\n",
        "      sum_of_squares += int(digit) ** 2\n",
        "    n = sum_of_squares\n",
        "  return n == 1\n",
        "\n",
        "# Example usage:\n",
        "number = 19\n",
        "if is_happy(number):\n",
        "  print(f\"{number} is a Happy Number.\")\n",
        "else:\n",
        "  print(f\"{number} is not a Happy Number.\")\n",
        "\n",
        "number = 2\n",
        "if is_happy(number):\n",
        "  print(f\"{number} is a Happy Number.\")\n",
        "else:\n",
        "  print(f\"{number} is not a Happy Number.\")"
      ],
      "metadata": {
        "colab": {
          "base_uri": "https://localhost:8080/"
        },
        "id": "n3-FXT4TJiW2",
        "outputId": "98925ff2-7be7-4de1-e1a7-f9800dacf7cf"
      },
      "execution_count": 3,
      "outputs": [
        {
          "output_type": "stream",
          "name": "stdout",
          "text": [
            "19 is a Happy Number.\n",
            "2 is not a Happy Number.\n"
          ]
        }
      ]
    },
    {
      "cell_type": "markdown",
      "source": [
        "4. **Write a Python program to print all happy numbers between 1 and 100?**"
      ],
      "metadata": {
        "id": "T1zkrftKJm-i"
      }
    },
    {
      "cell_type": "code",
      "source": [
        "def is_happy(n):\n",
        "  \"\"\"Checks if a number is a Happy Number.\"\"\"\n",
        "  seen = set()\n",
        "  while n != 1 and n not in seen:\n",
        "    seen.add(n)\n",
        "    sum_of_squares = 0\n",
        "    for digit in str(n):\n",
        "      sum_of_squares += int(digit) ** 2\n",
        "    n = sum_of_squares\n",
        "  return n == 1\n",
        "\n",
        "print(\"Happy numbers between 1 and 100 are:\")\n",
        "for i in range(1, 101):\n",
        "  if is_happy(i):\n",
        "    print(i)"
      ],
      "metadata": {
        "colab": {
          "base_uri": "https://localhost:8080/"
        },
        "id": "9ZFe_mWmK_y3",
        "outputId": "8830bf5f-dcd2-4528-c183-db96f167fb53"
      },
      "execution_count": 4,
      "outputs": [
        {
          "output_type": "stream",
          "name": "stdout",
          "text": [
            "Happy numbers between 1 and 100 are:\n",
            "1\n",
            "7\n",
            "10\n",
            "13\n",
            "19\n",
            "23\n",
            "28\n",
            "31\n",
            "32\n",
            "44\n",
            "49\n",
            "68\n",
            "70\n",
            "79\n",
            "82\n",
            "86\n",
            "91\n",
            "94\n",
            "97\n",
            "100\n"
          ]
        }
      ]
    },
    {
      "cell_type": "markdown",
      "source": [
        "5. **Write a Python program to determine whether the given number is a Harshad Number?**"
      ],
      "metadata": {
        "id": "74mjcWEhLDWA"
      }
    },
    {
      "cell_type": "code",
      "source": [
        "def is_harshad(num):\n",
        "  \"\"\"Checks if a number is a Harshad Number.\"\"\"\n",
        "  # Convert the number to a string to iterate through its digits\n",
        "  num_str = str(num)\n",
        "\n",
        "  # Calculate the sum of the digits\n",
        "  sum_of_digits = 0\n",
        "  for digit in num_str:\n",
        "    sum_of_digits += int(digit)\n",
        "\n",
        "  # Check if the number is divisible by the sum of its digits\n",
        "  return num % sum_of_digits == 0\n",
        "\n",
        "# Example usage:\n",
        "number = 18\n",
        "if is_harshad(number):\n",
        "  print(f\"{number} is a Harshad number.\")\n",
        "else:\n",
        "  print(f\"{number} is not a Harshad number.\")\n",
        "\n",
        "number = 17\n",
        "if is_harshad(number):\n",
        "  print(f\"{number} is a Harshad number.\")\n",
        "else:\n",
        "  print(f\"{number} is not a Harshad number.\")"
      ],
      "metadata": {
        "colab": {
          "base_uri": "https://localhost:8080/"
        },
        "id": "f-gGHKzcLQC-",
        "outputId": "43374002-c005-407e-924d-4338003bda34"
      },
      "execution_count": 5,
      "outputs": [
        {
          "output_type": "stream",
          "name": "stdout",
          "text": [
            "18 is a Harshad number.\n",
            "17 is not a Harshad number.\n"
          ]
        }
      ]
    },
    {
      "cell_type": "markdown",
      "source": [
        "6. **Write a Python program to print all pronic numbers between 1 and 100?**"
      ],
      "metadata": {
        "id": "XI6ja7MxLR0c"
      }
    },
    {
      "cell_type": "code",
      "source": [
        "def is_pronic(num):\n",
        "  \"\"\"Checks if a number is a Pronic Number.\"\"\"\n",
        "  i = 0\n",
        "  while i * (i + 1) <= num:\n",
        "    if i * (i + 1) == num:\n",
        "      return True\n",
        "    i += 1\n",
        "  return False\n",
        "\n",
        "print(\"Pronic numbers between 1 and 100 are:\")\n",
        "for i in range(1, 101):\n",
        "  if is_pronic(i):\n",
        "    print(i)"
      ],
      "metadata": {
        "colab": {
          "base_uri": "https://localhost:8080/"
        },
        "id": "wh4sUZkgLdhp",
        "outputId": "e18766ee-3ff1-47ce-8113-4974261fb4ae"
      },
      "execution_count": 6,
      "outputs": [
        {
          "output_type": "stream",
          "name": "stdout",
          "text": [
            "Pronic numbers between 1 and 100 are:\n",
            "2\n",
            "6\n",
            "12\n",
            "20\n",
            "30\n",
            "42\n",
            "56\n",
            "72\n",
            "90\n"
          ]
        }
      ]
    }
  ]
}